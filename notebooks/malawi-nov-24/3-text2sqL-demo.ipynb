{
 "cells": [
  {
   "cell_type": "markdown",
   "id": "5eb5dc4b-add1-4b1d-8fbb-3a1e85e552f7",
   "metadata": {},
   "source": [
    "# Chatting with a Population Dataset Using LangChain and LLMs\n",
    "\n",
    "----\n",
    "\n",
    "In this simple demonstration, we show how you can use natural language to query a structured dataset. The dataset is a 2018 population census enumeration level data from Malawi."
   ]
  },
  {
   "cell_type": "code",
   "execution_count": 1,
   "id": "a16425c5-c0ee-4bc9-8f80-1684edc5a843",
   "metadata": {},
   "outputs": [
    {
     "name": "stdin",
     "output_type": "stream",
     "text": [
      " ········\n"
     ]
    }
   ],
   "source": [
    "import getpass\n",
    "import pandas as pd\n",
    "import os\n",
    "\n",
    "os.environ[\"OPENAI_API_KEY\"] = getpass.getpass()"
   ]
  },
  {
   "cell_type": "markdown",
   "id": "5186c265-b78c-41f6-a4a4-4401e6ccb7cf",
   "metadata": {},
   "source": [
    "## 1. Creating a SQLLite Database\n",
    "Use a CSV file to create a database. The file which was used to create a database is shown below as a Pandas Dataframe"
   ]
  },
  {
   "cell_type": "code",
   "execution_count": 10,
   "id": "1b2308a3-7bb2-47ca-86c8-01ff060105e4",
   "metadata": {},
   "outputs": [
    {
     "data": {
      "text/html": [
       "<div>\n",
       "<style scoped>\n",
       "    .dataframe tbody tr th:only-of-type {\n",
       "        vertical-align: middle;\n",
       "    }\n",
       "\n",
       "    .dataframe tbody tr th {\n",
       "        vertical-align: top;\n",
       "    }\n",
       "\n",
       "    .dataframe thead th {\n",
       "        text-align: right;\n",
       "    }\n",
       "</style>\n",
       "<table border=\"1\" class=\"dataframe\">\n",
       "  <thead>\n",
       "    <tr style=\"text-align: right;\">\n",
       "      <th></th>\n",
       "      <th>RegionName</th>\n",
       "      <th>DistrictName</th>\n",
       "      <th>TAName</th>\n",
       "      <th>EnumerationArea</th>\n",
       "      <th>TotalPopulation</th>\n",
       "      <th>PopulationMale</th>\n",
       "      <th>PopulationFemale</th>\n",
       "      <th>NumberHouseholds</th>\n",
       "    </tr>\n",
       "  </thead>\n",
       "  <tbody>\n",
       "    <tr>\n",
       "      <th>0</th>\n",
       "      <td>Central</td>\n",
       "      <td>Ntchisi</td>\n",
       "      <td>TA Malenga</td>\n",
       "      <td>ea-20307802</td>\n",
       "      <td>633.0</td>\n",
       "      <td>331.0</td>\n",
       "      <td>302.0</td>\n",
       "      <td>145.0</td>\n",
       "    </tr>\n",
       "    <tr>\n",
       "      <th>1</th>\n",
       "      <td>Central</td>\n",
       "      <td>Ntchisi</td>\n",
       "      <td>TA Malenga</td>\n",
       "      <td>ea-20307025</td>\n",
       "      <td>1006.0</td>\n",
       "      <td>507.0</td>\n",
       "      <td>499.0</td>\n",
       "      <td>226.0</td>\n",
       "    </tr>\n",
       "    <tr>\n",
       "      <th>2</th>\n",
       "      <td>Central</td>\n",
       "      <td>Ntchisi</td>\n",
       "      <td>TA Malenga</td>\n",
       "      <td>ea-20307007</td>\n",
       "      <td>1503.0</td>\n",
       "      <td>740.0</td>\n",
       "      <td>763.0</td>\n",
       "      <td>338.0</td>\n",
       "    </tr>\n",
       "    <tr>\n",
       "      <th>3</th>\n",
       "      <td>Central</td>\n",
       "      <td>Ntchisi</td>\n",
       "      <td>TA Malenga</td>\n",
       "      <td>ea-20307005</td>\n",
       "      <td>1139.0</td>\n",
       "      <td>553.0</td>\n",
       "      <td>586.0</td>\n",
       "      <td>251.0</td>\n",
       "    </tr>\n",
       "    <tr>\n",
       "      <th>4</th>\n",
       "      <td>Central</td>\n",
       "      <td>Ntchisi</td>\n",
       "      <td>TA Malenga</td>\n",
       "      <td>ea-20307012</td>\n",
       "      <td>1400.0</td>\n",
       "      <td>668.0</td>\n",
       "      <td>732.0</td>\n",
       "      <td>284.0</td>\n",
       "    </tr>\n",
       "  </tbody>\n",
       "</table>\n",
       "</div>"
      ],
      "text/plain": [
       "  RegionName DistrictName      TAName EnumerationArea  TotalPopulation  \\\n",
       "0    Central      Ntchisi  TA Malenga     ea-20307802            633.0   \n",
       "1    Central      Ntchisi  TA Malenga     ea-20307025           1006.0   \n",
       "2    Central      Ntchisi  TA Malenga     ea-20307007           1503.0   \n",
       "3    Central      Ntchisi  TA Malenga     ea-20307005           1139.0   \n",
       "4    Central      Ntchisi  TA Malenga     ea-20307012           1400.0   \n",
       "\n",
       "   PopulationMale  PopulationFemale  NumberHouseholds  \n",
       "0           331.0             302.0             145.0  \n",
       "1           507.0             499.0             226.0  \n",
       "2           740.0             763.0             338.0  \n",
       "3           553.0             586.0             251.0  \n",
       "4           668.0             732.0             284.0  "
      ]
     },
     "execution_count": 10,
     "metadata": {},
     "output_type": "execute_result"
    }
   ],
   "source": [
    "df_pop = pd.read_csv(\"mw-ea-pop.csv\")\n",
    "df_pop.head(5)"
   ]
  },
  {
   "cell_type": "markdown",
   "id": "1a28fd50-a6c4-4929-8212-b2f4c9889b80",
   "metadata": {},
   "source": [
    "## 2. Setup LangChain for Connecting to Database\n",
    "The tool we will use is called LangChain. Its a popular tool for creating apps ontop of LLMs. During the course, we will delve more into using LangChain."
   ]
  },
  {
   "cell_type": "markdown",
   "id": "cbe6719b-2c38-49d7-8c96-622fc6900207",
   "metadata": {},
   "source": [
    "### 2.1 Import LangChain Packages and Setup Connection"
   ]
  },
  {
   "cell_type": "code",
   "execution_count": 3,
   "id": "e1ed50a5-adc2-4ab2-a4ca-ad9e487fa464",
   "metadata": {},
   "outputs": [],
   "source": [
    "from langchain_community.utilities import SQLDatabase\n",
    "from langchain.chains import create_sql_query_chain\n",
    "from langchain_openai import ChatOpenAI\n",
    "\n",
    "from langchain_community.tools.sql_database.tool import QuerySQLDataBaseTool\n",
    "\n",
    "from operator import itemgetter\n",
    "\n",
    "from langchain_core.output_parsers import StrOutputParser\n",
    "from langchain_core.prompts import PromptTemplate\n",
    "from langchain_core.runnables import RunnablePassthrough"
   ]
  },
  {
   "cell_type": "markdown",
   "id": "ef46f940-9e27-4e49-b84a-41001ba9a79d",
   "metadata": {},
   "source": [
    "### 2.2 Create the SQL Agent and a Chain"
   ]
  },
  {
   "cell_type": "code",
   "execution_count": 6,
   "id": "c44bb470-9afd-4fcd-bf67-c3cc08ddfcb9",
   "metadata": {},
   "outputs": [],
   "source": [
    "# Test connection to the database\n",
    "db = SQLDatabase.from_uri(\"sqlite:///mydatabase.db\")\n",
    "llm = ChatOpenAI(model=\"gpt-3.5-turbo\", temperature=0)\n",
    "\n",
    "execute_query = QuerySQLDataBaseTool(db=db)\n",
    "write_query = create_sql_query_chain(llm, db)\n",
    "chain = write_query | execute_query"
   ]
  },
  {
   "cell_type": "code",
   "execution_count": 7,
   "id": "2da6cdd0-012b-4fb2-8ae3-bde91d67aa20",
   "metadata": {},
   "outputs": [],
   "source": [
    "answer_prompt = PromptTemplate.from_template(\n",
    "    \"\"\"Given the following user question, corresponding SQL query, and SQL result, answer the user question.\n",
    "\n",
    "Question: {question}\n",
    "SQL Query: {query}\n",
    "SQL Result: {result}\n",
    "Answer: \"\"\"\n",
    ")\n",
    "\n",
    "answer = answer_prompt | llm | StrOutputParser()\n",
    "chain = (\n",
    "    RunnablePassthrough.assign(query=write_query).assign(\n",
    "        result=itemgetter(\"query\") | execute_query\n",
    "    )\n",
    "    | answer\n",
    ")\n"
   ]
  },
  {
   "cell_type": "markdown",
   "id": "6f39f651-c3e4-4fa7-b67a-b6b8c91de57f",
   "metadata": {},
   "source": [
    "## 3. Chat with the Data"
   ]
  },
  {
   "cell_type": "code",
   "execution_count": 9,
   "id": "2ff768f4-7622-43db-afbe-4155bf5eeff2",
   "metadata": {},
   "outputs": [
    {
     "name": "stderr",
     "output_type": "stream",
     "text": [
      "Failed to batch ingest runs: LangSmithError('Failed to POST https://api.smith.langchain.com/runs/batch in LangSmith API. HTTPError(\\'403 Client Error: Forbidden for url: https://api.smith.langchain.com/runs/batch\\', \\'{\"detail\":\"Forbidden\"}\\')')\n",
      "Failed to batch ingest runs: LangSmithError('Failed to POST https://api.smith.langchain.com/runs/batch in LangSmith API. HTTPError(\\'403 Client Error: Forbidden for url: https://api.smith.langchain.com/runs/batch\\', \\'{\"detail\":\"Forbidden\"}\\')')\n"
     ]
    },
    {
     "data": {
      "text/plain": [
       "'There are 33 districts in Malawi.'"
      ]
     },
     "execution_count": 9,
     "metadata": {},
     "output_type": "execute_result"
    },
    {
     "name": "stderr",
     "output_type": "stream",
     "text": [
      "Failed to batch ingest runs: LangSmithError('Failed to POST https://api.smith.langchain.com/runs/batch in LangSmith API. HTTPError(\\'403 Client Error: Forbidden for url: https://api.smith.langchain.com/runs/batch\\', \\'{\"detail\":\"Forbidden\"}\\')')\n"
     ]
    }
   ],
   "source": [
    "user_question = \"How many districts are there in Malawi\"\n",
    "chain.invoke({\"question\": \"{}\".format(user_question)})"
   ]
  },
  {
   "cell_type": "code",
   "execution_count": 16,
   "id": "b6d13719-e60e-4cff-afdb-c76253a65fc1",
   "metadata": {},
   "outputs": [
    {
     "data": {
      "text/plain": [
       "32"
      ]
     },
     "execution_count": 16,
     "metadata": {},
     "output_type": "execute_result"
    }
   ],
   "source": [
    "# VERIFY THIS INFORMATION USING PYTHON\n",
    "df_pop.DistrictName.nunique()"
   ]
  },
  {
   "cell_type": "code",
   "execution_count": 11,
   "id": "a6305316-c437-4e86-bb3a-8f75450897e6",
   "metadata": {},
   "outputs": [
    {
     "name": "stderr",
     "output_type": "stream",
     "text": [
      "Failed to batch ingest runs: LangSmithError('Failed to POST https://api.smith.langchain.com/runs/batch in LangSmith API. HTTPError(\\'403 Client Error: Forbidden for url: https://api.smith.langchain.com/runs/batch\\', \\'{\"detail\":\"Forbidden\"}\\')')\n",
      "Failed to batch ingest runs: LangSmithError('Failed to POST https://api.smith.langchain.com/runs/batch in LangSmith API. HTTPError(\\'403 Client Error: Forbidden for url: https://api.smith.langchain.com/runs/batch\\', \\'{\"detail\":\"Forbidden\"}\\')')\n"
     ]
    },
    {
     "data": {
      "text/plain": [
       "'There are 9,042,289 women in Malawi.'"
      ]
     },
     "execution_count": 11,
     "metadata": {},
     "output_type": "execute_result"
    },
    {
     "name": "stderr",
     "output_type": "stream",
     "text": [
      "Failed to batch ingest runs: LangSmithError('Failed to POST https://api.smith.langchain.com/runs/batch in LangSmith API. HTTPError(\\'403 Client Error: Forbidden for url: https://api.smith.langchain.com/runs/batch\\', \\'{\"detail\":\"Forbidden\"}\\')')\n"
     ]
    }
   ],
   "source": [
    "user_question = \"How many women are there in Malawi\"\n",
    "chain.invoke({\"question\": \"{}\".format(user_question)})"
   ]
  },
  {
   "cell_type": "code",
   "execution_count": 17,
   "id": "23e0abae-b0af-4965-9c37-00cafc30db5d",
   "metadata": {},
   "outputs": [
    {
     "data": {
      "text/plain": [
       "9042289.0"
      ]
     },
     "execution_count": 17,
     "metadata": {},
     "output_type": "execute_result"
    }
   ],
   "source": [
    "# VERIFY THIS INFORMATION USING PYTHON\n",
    "df_pop.PopulationFemale.sum()"
   ]
  },
  {
   "cell_type": "code",
   "execution_count": 12,
   "id": "e18bb38b-6313-4fd8-b2b8-b079c0e21e31",
   "metadata": {},
   "outputs": [
    {
     "name": "stderr",
     "output_type": "stream",
     "text": [
      "Failed to batch ingest runs: LangSmithError('Failed to POST https://api.smith.langchain.com/runs/batch in LangSmith API. HTTPError(\\'403 Client Error: Forbidden for url: https://api.smith.langchain.com/runs/batch\\', \\'{\"detail\":\"Forbidden\"}\\')')\n",
      "Failed to batch ingest runs: LangSmithError('Failed to POST https://api.smith.langchain.com/runs/batch in LangSmith API. HTTPError(\\'403 Client Error: Forbidden for url: https://api.smith.langchain.com/runs/batch\\', \\'{\"detail\":\"Forbidden\"}\\')')\n"
     ]
    },
    {
     "data": {
      "text/plain": [
       "'There are 246,415 women in Salima district.'"
      ]
     },
     "execution_count": 12,
     "metadata": {},
     "output_type": "execute_result"
    },
    {
     "name": "stderr",
     "output_type": "stream",
     "text": [
      "Failed to batch ingest runs: LangSmithError('Failed to POST https://api.smith.langchain.com/runs/batch in LangSmith API. HTTPError(\\'403 Client Error: Forbidden for url: https://api.smith.langchain.com/runs/batch\\', \\'{\"detail\":\"Forbidden\"}\\')')\n"
     ]
    }
   ],
   "source": [
    "user_question = \"How many women are there in Salima district\"\n",
    "chain.invoke({\"question\": \"{}\".format(user_question)})"
   ]
  },
  {
   "cell_type": "code",
   "execution_count": 13,
   "id": "d1f8a6ca-6d53-4eca-80ae-09eb07ad886f",
   "metadata": {},
   "outputs": [
    {
     "data": {
      "text/plain": [
       "246415.0"
      ]
     },
     "execution_count": 13,
     "metadata": {},
     "output_type": "execute_result"
    }
   ],
   "source": [
    "# We can check that the answer above is correct using Python code\n",
    "df_pop.query('DistrictName == \"Salima\"')['PopulationFemale'].sum()"
   ]
  },
  {
   "cell_type": "markdown",
   "id": "358519f6-98e3-4d45-ba6d-96560c67dcab",
   "metadata": {},
   "source": [
    "### Complicated question"
   ]
  },
  {
   "cell_type": "code",
   "execution_count": 14,
   "id": "96f94c49-1d06-4765-8af1-12b2d217b8da",
   "metadata": {},
   "outputs": [
    {
     "name": "stderr",
     "output_type": "stream",
     "text": [
      "Failed to batch ingest runs: LangSmithError('Failed to POST https://api.smith.langchain.com/runs/batch in LangSmith API. HTTPError(\\'403 Client Error: Forbidden for url: https://api.smith.langchain.com/runs/batch\\', \\'{\"detail\":\"Forbidden\"}\\')')\n",
      "Failed to batch ingest runs: LangSmithError('Failed to POST https://api.smith.langchain.com/runs/batch in LangSmith API. HTTPError(\\'403 Client Error: Forbidden for url: https://api.smith.langchain.com/runs/batch\\', \\'{\"detail\":\"Forbidden\"}\\')')\n"
     ]
    },
    {
     "data": {
      "text/plain": [
       "'Approximately 51.48% of the population in Malawi is female.'"
      ]
     },
     "execution_count": 14,
     "metadata": {},
     "output_type": "execute_result"
    },
    {
     "name": "stderr",
     "output_type": "stream",
     "text": [
      "Failed to batch ingest runs: LangSmithError('Failed to POST https://api.smith.langchain.com/runs/batch in LangSmith API. HTTPError(\\'403 Client Error: Forbidden for url: https://api.smith.langchain.com/runs/batch\\', \\'{\"detail\":\"Forbidden\"}\\')')\n"
     ]
    }
   ],
   "source": [
    "user_question = \"What percent of the population is female in Malawi?\"\n",
    "chain.invoke({\"question\": \"{}\".format(user_question)})"
   ]
  },
  {
   "cell_type": "code",
   "execution_count": 18,
   "id": "2033ecd1-0714-4bb0-a582-7dde4c366364",
   "metadata": {},
   "outputs": [
    {
     "data": {
      "text/plain": [
       "51.482681744085504"
      ]
     },
     "execution_count": 18,
     "metadata": {},
     "output_type": "execute_result"
    }
   ],
   "source": [
    "fem = df_pop.PopulationFemale.sum()\n",
    "tot = df_pop.TotalPopulation.sum()\n",
    "\n",
    "fem/tot*100"
   ]
  },
  {
   "cell_type": "code",
   "execution_count": 20,
   "id": "c267ea6e-6028-4716-9731-30beabf8b3f1",
   "metadata": {},
   "outputs": [
    {
     "name": "stderr",
     "output_type": "stream",
     "text": [
      "Failed to batch ingest runs: LangSmithError('Failed to POST https://api.smith.langchain.com/runs/batch in LangSmith API. HTTPError(\\'403 Client Error: Forbidden for url: https://api.smith.langchain.com/runs/batch\\', \\'{\"detail\":\"Forbidden\"}\\')')\n",
      "Failed to batch ingest runs: LangSmithError('Failed to POST https://api.smith.langchain.com/runs/batch in LangSmith API. HTTPError(\\'403 Client Error: Forbidden for url: https://api.smith.langchain.com/runs/batch\\', \\'{\"detail\":\"Forbidden\"}\\')')\n"
     ]
    },
    {
     "data": {
      "text/plain": [
       "'Based on the SQL query and result provided, we are only retrieving the population of males in the specified region (Central, Ntchisi, TA Malenga) for the last four years. We are not directly comparing the number of men over the years to determine if they are increasing. To answer the user question accurately, we would need to retrieve the population data for men in Malawi over the last four years and compare the numbers to see if there is an increase.'"
      ]
     },
     "execution_count": 20,
     "metadata": {},
     "output_type": "execute_result"
    },
    {
     "name": "stderr",
     "output_type": "stream",
     "text": [
      "Failed to batch ingest runs: LangSmithError('Failed to POST https://api.smith.langchain.com/runs/batch in LangSmith API. HTTPError(\\'403 Client Error: Forbidden for url: https://api.smith.langchain.com/runs/batch\\', \\'{\"detail\":\"Forbidden\"}\\')')\n"
     ]
    }
   ],
   "source": [
    "user_question = \"are the number of men increasing in the four last years in malawi\"\n",
    "chain.invoke({\"question\": \"{}\".format(user_question)})"
   ]
  },
  {
   "cell_type": "code",
   "execution_count": 21,
   "id": "986fd189-6019-4a8a-bf3a-4fdc4f6e708e",
   "metadata": {},
   "outputs": [
    {
     "name": "stderr",
     "output_type": "stream",
     "text": [
      "Failed to batch ingest runs: LangSmithError('Failed to POST https://api.smith.langchain.com/runs/batch in LangSmith API. HTTPError(\\'403 Client Error: Forbidden for url: https://api.smith.langchain.com/runs/batch\\', \\'{\"detail\":\"Forbidden\"}\\')')\n",
      "Failed to batch ingest runs: LangSmithError('Failed to POST https://api.smith.langchain.com/runs/batch in LangSmith API. HTTPError(\\'403 Client Error: Forbidden for url: https://api.smith.langchain.com/runs/batch\\', \\'{\"detail\":\"Forbidden\"}\\')')\n"
     ]
    },
    {
     "data": {
      "text/plain": [
       "'The fertility rate of Malawi can be calculated by dividing the total female population by the total population. \\n\\nFor the first set of data:\\nFertility rate = total_female_population / total_population\\nFertility rate = 1303 / 2604\\nFertility rate = 0.5008\\n\\nFor the second set of data:\\nFertility rate = total_female_population / total_population\\nFertility rate = 9042289 / 17563749\\nFertility rate = 0.5143\\n\\nTherefore, the fertility rate of Malawi is approximately 0.5008 for the first set of data and 0.5143 for the second set of data.'"
      ]
     },
     "execution_count": 21,
     "metadata": {},
     "output_type": "execute_result"
    },
    {
     "name": "stderr",
     "output_type": "stream",
     "text": [
      "Failed to batch ingest runs: LangSmithError('Failed to POST https://api.smith.langchain.com/runs/batch in LangSmith API. HTTPError(\\'403 Client Error: Forbidden for url: https://api.smith.langchain.com/runs/batch\\', \\'{\"detail\":\"Forbidden\"}\\')')\n"
     ]
    }
   ],
   "source": [
    "user_question = \"what is the fertilely rate of Malawi(Calculate)?\"\n",
    "chain.invoke({\"question\": \"{}\".format(user_question)})"
   ]
  },
  {
   "cell_type": "markdown",
   "id": "8e977b26-373b-4482-b613-bd1f70276b6f",
   "metadata": {},
   "source": [
    "## 4. EXERCISE: What Question Do You Want Me to Try?\n",
    "Share any question in the chat you would like me to try based on this dataset so that we see how much it can handle. \n",
    "\n",
    "- **Share your question on the chat**\n",
    "- **I will run the question here and we will inspect the response together**"
   ]
  },
  {
   "cell_type": "markdown",
   "id": "c07e2bc8-c41c-49dd-ac6b-1a77d6c6e168",
   "metadata": {},
   "source": [
    "## 5. What We will Do During the Course\n",
    "During the course we will use LangChain to build our own **Ask-A-Question (AAQ)** type \n",
    "of Chatbot to enable a user to chat with a dataset by asking natural language questions. \n",
    "We will build an interactive app like [this](https://llm-examples.streamlit.app) using  Streamlit and be able to share it with others."
   ]
  },
  {
   "cell_type": "markdown",
   "id": "3b84bb26-3dff-4d1b-af02-8edc18ac2f36",
   "metadata": {},
   "source": [
    "# Deployment\n",
    "1. Web app\n",
    "2. WhatsApp \n",
    "2. Chatbot on website of NSO or Health ministry"
   ]
  },
  {
   "cell_type": "code",
   "execution_count": null,
   "id": "72accb41-83da-4781-bf06-2488db5f91d1",
   "metadata": {},
   "outputs": [],
   "source": []
  }
 ],
 "metadata": {
  "kernelspec": {
   "display_name": "Python 3 (ipykernel)",
   "language": "python",
   "name": "python3"
  },
  "language_info": {
   "codemirror_mode": {
    "name": "ipython",
    "version": 3
   },
   "file_extension": ".py",
   "mimetype": "text/x-python",
   "name": "python",
   "nbconvert_exporter": "python",
   "pygments_lexer": "ipython3",
   "version": "3.10.8"
  }
 },
 "nbformat": 4,
 "nbformat_minor": 5
}
